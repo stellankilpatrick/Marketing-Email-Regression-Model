{
 "cells": [
  {
   "cell_type": "markdown",
   "id": "816c0592",
   "metadata": {},
   "source": [
    "# **Consumer Interaction Regression Prediction**\n",
    "\n",
    "##### An retail company wants to send out an email to customers about a laptop promotion. The goal is to send out the email to customers who will click on it, and avoid sending it to those who won't. Using past website actvitiy from a similar activity done years prior, a logistic regression model will be trained to decide if a customer will get sent an email based on multiple variables. It will then be tested and mutliple metrics will be analyzed, determining if the exercise was a success."
   ]
  },
  {
   "cell_type": "markdown",
   "id": "dc506d18",
   "metadata": {},
   "source": [
    "Import Python script with neccessary methods and initialize a model:"
   ]
  },
  {
   "cell_type": "code",
   "execution_count": null,
   "id": "93b3f929",
   "metadata": {},
   "outputs": [],
   "source": [
    "import os\n",
    "from matplotlib import pyplot as plt\n",
    "import pandas as pd\n",
    "import main\n",
    "model = main.UserPredictor()"
   ]
  },
  {
   "cell_type": "markdown",
   "id": "20825092",
   "metadata": {},
   "source": [
    "### **Training the Model**"
   ]
  },
  {
   "cell_type": "markdown",
   "id": "da0f4709",
   "metadata": {},
   "source": [
    "Read in training data:"
   ]
  },
  {
   "cell_type": "code",
   "execution_count": 3,
   "id": "2129957d-cc95-4979-a7a2-8805c7cdda87",
   "metadata": {},
   "outputs": [],
   "source": [
    "train_users = pd.read_csv(os.path.join(\"data\", \"train_users.csv\"))\n",
    "train_logs = pd.read_csv(os.path.join(\"data\", \"train_logs.csv\"))\n",
    "train_y = pd.read_csv(os.path.join(\"data\", \"train_y.csv\"))"
   ]
  },
  {
   "cell_type": "markdown",
   "id": "a73122cc",
   "metadata": {},
   "source": [
    "**train_users** is a record of every customer to have visited the company's website in the past"
   ]
  },
  {
   "cell_type": "code",
   "execution_count": 4,
   "id": "b71250d5",
   "metadata": {},
   "outputs": [
    {
     "data": {
      "text/html": [
       "<div>\n",
       "<style scoped>\n",
       "    .dataframe tbody tr th:only-of-type {\n",
       "        vertical-align: middle;\n",
       "    }\n",
       "\n",
       "    .dataframe tbody tr th {\n",
       "        vertical-align: top;\n",
       "    }\n",
       "\n",
       "    .dataframe thead th {\n",
       "        text-align: right;\n",
       "    }\n",
       "</style>\n",
       "<table border=\"1\" class=\"dataframe\">\n",
       "  <thead>\n",
       "    <tr style=\"text-align: right;\">\n",
       "      <th></th>\n",
       "      <th>user_id</th>\n",
       "      <th>names</th>\n",
       "      <th>age</th>\n",
       "      <th>past_purchase_amt</th>\n",
       "      <th>badge</th>\n",
       "    </tr>\n",
       "  </thead>\n",
       "  <tbody>\n",
       "    <tr>\n",
       "      <th>0</th>\n",
       "      <td>0</td>\n",
       "      <td>Adriana Mcclure</td>\n",
       "      <td>26</td>\n",
       "      <td>39.344704</td>\n",
       "      <td>gold</td>\n",
       "    </tr>\n",
       "    <tr>\n",
       "      <th>1</th>\n",
       "      <td>1</td>\n",
       "      <td>Stacy Gilmore</td>\n",
       "      <td>67</td>\n",
       "      <td>15.840151</td>\n",
       "      <td>silver</td>\n",
       "    </tr>\n",
       "    <tr>\n",
       "      <th>2</th>\n",
       "      <td>2</td>\n",
       "      <td>Joanna Walsh</td>\n",
       "      <td>50</td>\n",
       "      <td>1099.420085</td>\n",
       "      <td>bronze</td>\n",
       "    </tr>\n",
       "    <tr>\n",
       "      <th>3</th>\n",
       "      <td>3</td>\n",
       "      <td>Eduardo Moore</td>\n",
       "      <td>65</td>\n",
       "      <td>5.880239</td>\n",
       "      <td>bronze</td>\n",
       "    </tr>\n",
       "    <tr>\n",
       "      <th>4</th>\n",
       "      <td>4</td>\n",
       "      <td>Angela Freeman</td>\n",
       "      <td>88</td>\n",
       "      <td>1312.296847</td>\n",
       "      <td>bronze</td>\n",
       "    </tr>\n",
       "  </tbody>\n",
       "</table>\n",
       "</div>"
      ],
      "text/plain": [
       "   user_id            names  age  past_purchase_amt   badge\n",
       "0        0  Adriana Mcclure   26          39.344704    gold\n",
       "1        1    Stacy Gilmore   67          15.840151  silver\n",
       "2        2     Joanna Walsh   50        1099.420085  bronze\n",
       "3        3    Eduardo Moore   65           5.880239  bronze\n",
       "4        4   Angela Freeman   88        1312.296847  bronze"
      ]
     },
     "execution_count": 4,
     "metadata": {},
     "output_type": "execute_result"
    }
   ],
   "source": [
    "train_users.head()"
   ]
  },
  {
   "cell_type": "markdown",
   "id": "da5f67eb",
   "metadata": {},
   "source": [
    "**train_logs** is each individual visit from the above customers, including the specific product they were viewing and for how long they viewed"
   ]
  },
  {
   "cell_type": "code",
   "execution_count": 5,
   "id": "13546d75",
   "metadata": {},
   "outputs": [
    {
     "data": {
      "text/html": [
       "<div>\n",
       "<style scoped>\n",
       "    .dataframe tbody tr th:only-of-type {\n",
       "        vertical-align: middle;\n",
       "    }\n",
       "\n",
       "    .dataframe tbody tr th {\n",
       "        vertical-align: top;\n",
       "    }\n",
       "\n",
       "    .dataframe thead th {\n",
       "        text-align: right;\n",
       "    }\n",
       "</style>\n",
       "<table border=\"1\" class=\"dataframe\">\n",
       "  <thead>\n",
       "    <tr style=\"text-align: right;\">\n",
       "      <th></th>\n",
       "      <th>user_id</th>\n",
       "      <th>date</th>\n",
       "      <th>url</th>\n",
       "      <th>seconds</th>\n",
       "    </tr>\n",
       "  </thead>\n",
       "  <tbody>\n",
       "    <tr>\n",
       "      <th>0</th>\n",
       "      <td>0</td>\n",
       "      <td>10/27/2021</td>\n",
       "      <td>/keyboard.html</td>\n",
       "      <td>159</td>\n",
       "    </tr>\n",
       "    <tr>\n",
       "      <th>1</th>\n",
       "      <td>0</td>\n",
       "      <td>3/15/2021</td>\n",
       "      <td>/blender.html</td>\n",
       "      <td>15</td>\n",
       "    </tr>\n",
       "    <tr>\n",
       "      <th>2</th>\n",
       "      <td>0</td>\n",
       "      <td>7/29/2021</td>\n",
       "      <td>/keyboard.html</td>\n",
       "      <td>11</td>\n",
       "    </tr>\n",
       "    <tr>\n",
       "      <th>3</th>\n",
       "      <td>0</td>\n",
       "      <td>1/27/2021</td>\n",
       "      <td>/laptop.html</td>\n",
       "      <td>142</td>\n",
       "    </tr>\n",
       "    <tr>\n",
       "      <th>4</th>\n",
       "      <td>1</td>\n",
       "      <td>3/1/2021</td>\n",
       "      <td>/keyboard.html</td>\n",
       "      <td>78</td>\n",
       "    </tr>\n",
       "  </tbody>\n",
       "</table>\n",
       "</div>"
      ],
      "text/plain": [
       "   user_id        date             url  seconds\n",
       "0        0  10/27/2021  /keyboard.html      159\n",
       "1        0   3/15/2021   /blender.html       15\n",
       "2        0   7/29/2021  /keyboard.html       11\n",
       "3        0   1/27/2021    /laptop.html      142\n",
       "4        1    3/1/2021  /keyboard.html       78"
      ]
     },
     "execution_count": 5,
     "metadata": {},
     "output_type": "execute_result"
    }
   ],
   "source": [
    "train_logs.head()"
   ]
  },
  {
   "cell_type": "markdown",
   "id": "740969dc",
   "metadata": {},
   "source": [
    "**train_y** contains the results from a previous, similar email test, which will be used to train the model"
   ]
  },
  {
   "cell_type": "code",
   "execution_count": 6,
   "id": "326c6889",
   "metadata": {},
   "outputs": [
    {
     "data": {
      "text/html": [
       "<div>\n",
       "<style scoped>\n",
       "    .dataframe tbody tr th:only-of-type {\n",
       "        vertical-align: middle;\n",
       "    }\n",
       "\n",
       "    .dataframe tbody tr th {\n",
       "        vertical-align: top;\n",
       "    }\n",
       "\n",
       "    .dataframe thead th {\n",
       "        text-align: right;\n",
       "    }\n",
       "</style>\n",
       "<table border=\"1\" class=\"dataframe\">\n",
       "  <thead>\n",
       "    <tr style=\"text-align: right;\">\n",
       "      <th></th>\n",
       "      <th>user_id</th>\n",
       "      <th>y</th>\n",
       "    </tr>\n",
       "  </thead>\n",
       "  <tbody>\n",
       "    <tr>\n",
       "      <th>0</th>\n",
       "      <td>0</td>\n",
       "      <td>False</td>\n",
       "    </tr>\n",
       "    <tr>\n",
       "      <th>1</th>\n",
       "      <td>1</td>\n",
       "      <td>False</td>\n",
       "    </tr>\n",
       "    <tr>\n",
       "      <th>2</th>\n",
       "      <td>2</td>\n",
       "      <td>True</td>\n",
       "    </tr>\n",
       "    <tr>\n",
       "      <th>3</th>\n",
       "      <td>3</td>\n",
       "      <td>False</td>\n",
       "    </tr>\n",
       "    <tr>\n",
       "      <th>4</th>\n",
       "      <td>4</td>\n",
       "      <td>False</td>\n",
       "    </tr>\n",
       "  </tbody>\n",
       "</table>\n",
       "</div>"
      ],
      "text/plain": [
       "   user_id      y\n",
       "0        0  False\n",
       "1        1  False\n",
       "2        2   True\n",
       "3        3  False\n",
       "4        4  False"
      ]
     },
     "execution_count": 6,
     "metadata": {},
     "output_type": "execute_result"
    }
   ],
   "source": [
    "train_y.head()"
   ]
  },
  {
   "cell_type": "markdown",
   "id": "d22c044c",
   "metadata": {},
   "source": [
    "**add_logs_as_features()** method, contained in the Python script, aggregates the values across the logs and assigns them to the respective customer.\n",
    "\n",
    "Now, total time spent on websites, number of pages visited, how many of them were the laptop, and the number of days before first and last visit are added:"
   ]
  },
  {
   "cell_type": "code",
   "execution_count": 14,
   "id": "8afb4d2e",
   "metadata": {},
   "outputs": [
    {
     "data": {
      "text/html": [
       "<div>\n",
       "<style scoped>\n",
       "    .dataframe tbody tr th:only-of-type {\n",
       "        vertical-align: middle;\n",
       "    }\n",
       "\n",
       "    .dataframe tbody tr th {\n",
       "        vertical-align: top;\n",
       "    }\n",
       "\n",
       "    .dataframe thead th {\n",
       "        text-align: right;\n",
       "    }\n",
       "</style>\n",
       "<table border=\"1\" class=\"dataframe\">\n",
       "  <thead>\n",
       "    <tr style=\"text-align: right;\">\n",
       "      <th></th>\n",
       "      <th>user_id</th>\n",
       "      <th>names</th>\n",
       "      <th>age</th>\n",
       "      <th>past_purchase_amt</th>\n",
       "      <th>badge</th>\n",
       "      <th>time_spent</th>\n",
       "      <th>pages_visited</th>\n",
       "      <th>laptop_visits</th>\n",
       "      <th>date_span</th>\n",
       "    </tr>\n",
       "  </thead>\n",
       "  <tbody>\n",
       "    <tr>\n",
       "      <th>0</th>\n",
       "      <td>0</td>\n",
       "      <td>Adriana Mcclure</td>\n",
       "      <td>26</td>\n",
       "      <td>39.344704</td>\n",
       "      <td>gold</td>\n",
       "      <td>327.0</td>\n",
       "      <td>4.0</td>\n",
       "      <td>1.0</td>\n",
       "      <td>273.0</td>\n",
       "    </tr>\n",
       "    <tr>\n",
       "      <th>1</th>\n",
       "      <td>1</td>\n",
       "      <td>Stacy Gilmore</td>\n",
       "      <td>67</td>\n",
       "      <td>15.840151</td>\n",
       "      <td>silver</td>\n",
       "      <td>78.0</td>\n",
       "      <td>1.0</td>\n",
       "      <td>0.0</td>\n",
       "      <td>0.0</td>\n",
       "    </tr>\n",
       "    <tr>\n",
       "      <th>2</th>\n",
       "      <td>2</td>\n",
       "      <td>Joanna Walsh</td>\n",
       "      <td>50</td>\n",
       "      <td>1099.420085</td>\n",
       "      <td>bronze</td>\n",
       "      <td>432.0</td>\n",
       "      <td>4.0</td>\n",
       "      <td>0.0</td>\n",
       "      <td>163.0</td>\n",
       "    </tr>\n",
       "    <tr>\n",
       "      <th>3</th>\n",
       "      <td>3</td>\n",
       "      <td>Eduardo Moore</td>\n",
       "      <td>65</td>\n",
       "      <td>5.880239</td>\n",
       "      <td>bronze</td>\n",
       "      <td>0.0</td>\n",
       "      <td>0.0</td>\n",
       "      <td>0.0</td>\n",
       "      <td>0.0</td>\n",
       "    </tr>\n",
       "    <tr>\n",
       "      <th>4</th>\n",
       "      <td>4</td>\n",
       "      <td>Angela Freeman</td>\n",
       "      <td>88</td>\n",
       "      <td>1312.296847</td>\n",
       "      <td>bronze</td>\n",
       "      <td>0.0</td>\n",
       "      <td>0.0</td>\n",
       "      <td>0.0</td>\n",
       "      <td>0.0</td>\n",
       "    </tr>\n",
       "    <tr>\n",
       "      <th>5</th>\n",
       "      <td>5</td>\n",
       "      <td>Hannah Savage</td>\n",
       "      <td>24</td>\n",
       "      <td>148.939899</td>\n",
       "      <td>silver</td>\n",
       "      <td>0.0</td>\n",
       "      <td>0.0</td>\n",
       "      <td>0.0</td>\n",
       "      <td>0.0</td>\n",
       "    </tr>\n",
       "    <tr>\n",
       "      <th>6</th>\n",
       "      <td>6</td>\n",
       "      <td>Jacob Perry</td>\n",
       "      <td>75</td>\n",
       "      <td>9.708406</td>\n",
       "      <td>silver</td>\n",
       "      <td>592.0</td>\n",
       "      <td>7.0</td>\n",
       "      <td>2.0</td>\n",
       "      <td>163.0</td>\n",
       "    </tr>\n",
       "    <tr>\n",
       "      <th>7</th>\n",
       "      <td>7</td>\n",
       "      <td>Thomas Morrison</td>\n",
       "      <td>52</td>\n",
       "      <td>51.593979</td>\n",
       "      <td>silver</td>\n",
       "      <td>0.0</td>\n",
       "      <td>0.0</td>\n",
       "      <td>0.0</td>\n",
       "      <td>0.0</td>\n",
       "    </tr>\n",
       "    <tr>\n",
       "      <th>8</th>\n",
       "      <td>8</td>\n",
       "      <td>Mr. Isaac Barry</td>\n",
       "      <td>41</td>\n",
       "      <td>2.730201</td>\n",
       "      <td>bronze</td>\n",
       "      <td>420.0</td>\n",
       "      <td>6.0</td>\n",
       "      <td>1.0</td>\n",
       "      <td>284.0</td>\n",
       "    </tr>\n",
       "    <tr>\n",
       "      <th>9</th>\n",
       "      <td>9</td>\n",
       "      <td>Melissa Adams</td>\n",
       "      <td>38</td>\n",
       "      <td>54.052274</td>\n",
       "      <td>bronze</td>\n",
       "      <td>97.0</td>\n",
       "      <td>1.0</td>\n",
       "      <td>0.0</td>\n",
       "      <td>0.0</td>\n",
       "    </tr>\n",
       "  </tbody>\n",
       "</table>\n",
       "</div>"
      ],
      "text/plain": [
       "   user_id            names  age  past_purchase_amt   badge  time_spent  \\\n",
       "0        0  Adriana Mcclure   26          39.344704    gold       327.0   \n",
       "1        1    Stacy Gilmore   67          15.840151  silver        78.0   \n",
       "2        2     Joanna Walsh   50        1099.420085  bronze       432.0   \n",
       "3        3    Eduardo Moore   65           5.880239  bronze         0.0   \n",
       "4        4   Angela Freeman   88        1312.296847  bronze         0.0   \n",
       "5        5    Hannah Savage   24         148.939899  silver         0.0   \n",
       "6        6      Jacob Perry   75           9.708406  silver       592.0   \n",
       "7        7  Thomas Morrison   52          51.593979  silver         0.0   \n",
       "8        8  Mr. Isaac Barry   41           2.730201  bronze       420.0   \n",
       "9        9    Melissa Adams   38          54.052274  bronze        97.0   \n",
       "\n",
       "   pages_visited  laptop_visits  date_span  \n",
       "0            4.0            1.0      273.0  \n",
       "1            1.0            0.0        0.0  \n",
       "2            4.0            0.0      163.0  \n",
       "3            0.0            0.0        0.0  \n",
       "4            0.0            0.0        0.0  \n",
       "5            0.0            0.0        0.0  \n",
       "6            7.0            2.0      163.0  \n",
       "7            0.0            0.0        0.0  \n",
       "8            6.0            1.0      284.0  \n",
       "9            1.0            0.0        0.0  "
      ]
     },
     "execution_count": 14,
     "metadata": {},
     "output_type": "execute_result"
    }
   ],
   "source": [
    "model.add_logs_as_features(train_users, train_logs).head(10)"
   ]
  },
  {
   "cell_type": "markdown",
   "id": "ca4b7f48",
   "metadata": {},
   "source": [
    "The model is then fitted on the training data using the **fit()** method from the Python script:"
   ]
  },
  {
   "cell_type": "code",
   "execution_count": 8,
   "id": "5bb70e78",
   "metadata": {},
   "outputs": [],
   "source": [
    "model.fit(train_users, train_logs, train_y)"
   ]
  },
  {
   "cell_type": "markdown",
   "id": "f5c7a4da",
   "metadata": {},
   "source": [
    "### **Testing the Model**"
   ]
  },
  {
   "cell_type": "markdown",
   "id": "b7e12061",
   "metadata": {},
   "source": [
    "To prepare for the testing of the model, the test datasets are read in:"
   ]
  },
  {
   "cell_type": "code",
   "execution_count": 9,
   "id": "fb566fdd",
   "metadata": {},
   "outputs": [],
   "source": [
    "# read in the test data sets\n",
    "test_users = pd.read_csv(os.path.join(\"data\", \"test_users.csv\"))\n",
    "test_logs = pd.read_csv(os.path.join(\"data\", \"test_logs.csv\"))\n",
    "test_y = pd.read_csv(os.path.join(\"data\", \"test_y.csv\"))"
   ]
  },
  {
   "cell_type": "markdown",
   "id": "a4575a39",
   "metadata": {},
   "source": [
    "#### **Model Coefficients**\n",
    "\n",
    "Insight into how much each coefficient is impacting the model. The three most impactful are past purchase amount, time spent on webpages, and total pages visited. All increase the odds of the customer clicking the email link. Age, on the other hand, decreases the chances of the link being clicked as age increases. This is likely due to younger ages being more tech-savvy and taking advantage of deals they find online. Laptop page visits and days between first and last website visit have impacts of lower magnitudes on the probability."
   ]
  },
  {
   "cell_type": "code",
   "execution_count": 11,
   "id": "1e67e588",
   "metadata": {},
   "outputs": [
    {
     "data": {
      "image/png": "[encoded data removed]",
      "text/plain": [
       "<Figure size 640x480 with 1 Axes>"
      ]
     },
     "metadata": {},
     "output_type": "display_data"
    }
   ],
   "source": [
    "df = model.feature_coefficients(train_users, train_logs, train_y)\n",
    "\n",
    "plt.bar(x = df['Feature'], height = df['Coefficient'])\n",
    "plt.xticks(rotation=15)\n",
    "plt.xlabel(\"Features\")\n",
    "plt.ylabel(\"Coefficient\")\n",
    "plt.axhline(y=0, color='black')  # Add horizontal line at y = 0\n",
    "plt.title('Model Coefficients')\n",
    "plt.show()"
   ]
  },
  {
   "cell_type": "markdown",
   "id": "4a8daec7",
   "metadata": {},
   "source": [
    "#### **Model Performance**\n",
    "Looking at various performance metrics of the model, the consistency and values of scores indicate high performance and a good ability to combat imbalances in the data:"
   ]
  },
  {
   "cell_type": "code",
   "execution_count": 12,
   "id": "1d6c860b",
   "metadata": {},
   "outputs": [
    {
     "data": {
      "image/png": "[encoded data removed]",
      "text/plain": [
       "<Figure size 640x480 with 1 Axes>"
      ]
     },
     "metadata": {},
     "output_type": "display_data"
    },
    {
     "data": {
      "text/html": [
       "<div>\n",
       "<style scoped>\n",
       "    .dataframe tbody tr th:only-of-type {\n",
       "        vertical-align: middle;\n",
       "    }\n",
       "\n",
       "    .dataframe tbody tr th {\n",
       "        vertical-align: top;\n",
       "    }\n",
       "\n",
       "    .dataframe thead th {\n",
       "        text-align: right;\n",
       "    }\n",
       "</style>\n",
       "<table border=\"1\" class=\"dataframe\">\n",
       "  <thead>\n",
       "    <tr style=\"text-align: right;\">\n",
       "      <th></th>\n",
       "      <th>Metric</th>\n",
       "      <th>Value</th>\n",
       "    </tr>\n",
       "  </thead>\n",
       "  <tbody>\n",
       "    <tr>\n",
       "      <th>0</th>\n",
       "      <td>Accuracy</td>\n",
       "      <td>0.789900</td>\n",
       "    </tr>\n",
       "    <tr>\n",
       "      <th>1</th>\n",
       "      <td>Precision</td>\n",
       "      <td>0.766315</td>\n",
       "    </tr>\n",
       "    <tr>\n",
       "      <th>2</th>\n",
       "      <td>Recall (True Positive)</td>\n",
       "      <td>0.765461</td>\n",
       "    </tr>\n",
       "    <tr>\n",
       "      <th>3</th>\n",
       "      <td>Specificity (True Negative)</td>\n",
       "      <td>0.809812</td>\n",
       "    </tr>\n",
       "  </tbody>\n",
       "</table>\n",
       "</div>"
      ],
      "text/plain": [
       "                        Metric     Value\n",
       "0                     Accuracy  0.789900\n",
       "1                    Precision  0.766315\n",
       "2       Recall (True Positive)  0.765461\n",
       "3  Specificity (True Negative)  0.809812"
      ]
     },
     "execution_count": 12,
     "metadata": {},
     "output_type": "execute_result"
    }
   ],
   "source": [
    "model.performance(train_users, train_y, test_users, test_logs, test_y)"
   ]
  },
  {
   "cell_type": "markdown",
   "id": "b7819a98",
   "metadata": {},
   "source": [
    "#### **probability() Method**\n",
    "\n",
    "Using the probability method from main.py, the odds of any customer clicking on the email link can be calculated\n",
    "\n",
    "In this example, it is a 56 year-old who has never bought any products before, but has spend 30 seconds on a total of 3 webpages, 2 of them unique, and had 4 days between their first and last visits:"
   ]
  },
  {
   "cell_type": "code",
   "execution_count": 13,
   "id": "5ea786f7",
   "metadata": {},
   "outputs": [
    {
     "data": {
      "text/plain": [
       "'This customer, 56 years of age, has spent $0 on past purchases, visited 3 webpages, 2 of them for the laptop, for a total of 0.5 minutes, and had 4 days between their first and last visit. They have a 52.6% chance of clicking on the link in the email.'"
      ]
     },
     "execution_count": 13,
     "metadata": {},
     "output_type": "execute_result"
    }
   ],
   "source": [
    "model.probability(56, 0, 30, 3, 2, 4)"
   ]
  },
  {
   "cell_type": "markdown",
   "id": "ea303e4d",
   "metadata": {},
   "source": [
    "## **Closing Remarks**\n",
    "After being tasked with this problem of sending out promotional emails in the most efficient manner, the model turned out to be a success; 77% of customers that would have been sent the email clicked on the link, and 81% of those who wouldn't have clicked weren't sent the email in the first place. The model allows the company to efficiently send the email out to its target customers to increase sales, while also retaining cash and resources that weren't wasted on emails to customers who wouldn't have used the promotion. In future events and promotions similar to this one, the company will have a reliable and accurate model to deploy."
   ]
  }
 ],
 "metadata": {
  "kernelspec": {
   "display_name": "Python 3",
   "language": "python",
   "name": "python3"
  },
  "language_info": {
   "codemirror_mode": {
    "name": "ipython",
    "version": 3
   },
   "file_extension": ".py",
   "mimetype": "text/x-python",
   "name": "python",
   "nbconvert_exporter": "python",
   "pygments_lexer": "ipython3",
   "version": "3.11.9"
  }
 },
 "nbformat": 4,
 "nbformat_minor": 5
}
